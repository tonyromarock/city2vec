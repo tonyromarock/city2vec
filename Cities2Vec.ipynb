{
 "cells": [
  {
   "cell_type": "markdown",
   "metadata": {},
   "source": [
    "# City2Vec\n",
    "\n",
    "### Analyzing the Analogical Properties of Cities in Word Vector Representations\n",
    "\n",
    "In this analysis I want to look at the properties of word vectors from city names. In the science of Natural Language Processing (NLP) there are techniques that produce word embeddings. Word embeddings create a mapping from a word or phrase to a vector of real numbers. These word embeddings are normally trained on the occurrence of words in certain contexts in larger text corpora (Wikipedia articles, official EU Documents, Social Media content). The context of a word is described based on the neighboring words in the sentence.\n",
    "\n",
    "There have been experiments with certain word embeddings, that showed that the location of these word vectors in the vector space in relation to other word vectors can show some interesting properties similar to analogical reasoning. This analysis will build upon this observation anc see if these word vector properties can be related to geographical properties of cities in a country.\n",
    "\n",
    "Ideally, this can be visualized using a dimensionally reduction technqiue like [Multidimensional Scaling](https://en.wikipedia.org/wiki/Multidimensional_scaling)."
   ]
  },
  {
   "cell_type": "code",
   "execution_count": 104,
   "metadata": {},
   "outputs": [],
   "source": [
    "import pandas as pd\n",
    "import folium\n",
    "import geopy\n",
    "from geopy.distance import great_circle\n",
    "import gensim\n",
    "import gensim.downloader as api\n",
    "import matplotlib\n",
    "import matplotlib.pyplot as plt\n",
    "import numpy as np\n",
    "import pickle\n",
    "import re\n",
    "import scipy\n",
    "from sklearn import manifold\n",
    "\n",
    "%matplotlib inline"
   ]
  },
  {
   "cell_type": "markdown",
   "metadata": {},
   "source": [
    "You can download the GloVe word vectors using the following gensim command in your terminal:\n",
    "\n",
    "    python3 -m gensim.downloader --download \"glove-wiki-gigaword-50\"\n",
    "    \n",
    "This will then download the word vectors and store them at:\n",
    "\n",
    "    /home/[USERNAME]/gensim-data/"
   ]
  },
  {
   "cell_type": "code",
   "execution_count": 2,
   "metadata": {},
   "outputs": [],
   "source": [
    "# Load the pre-trained word vectors of the GloVe model (this takes a bit)\n",
    "word_vectors = api.load(\"glove-wiki-gigaword-50\")"
   ]
  },
  {
   "cell_type": "code",
   "execution_count": 3,
   "metadata": {},
   "outputs": [],
   "source": [
    "# Load some city names of different countries\n",
    "\n",
    "# 79 cities in the table\n",
    "# src: https://en.wikipedia.org/wiki/List_of_cities_in_Germany_by_population\n",
    "german_city_data = pd.read_csv(\"german_cities.csv\", skiprows=[0]) \n",
    "\n",
    "# 429 cities in the table\n",
    "# src: https://simple.wikipedia.org/wiki/List_of_cities_in_France\n",
    "french_city_data = pd.read_csv(\"french_cities.csv\", skiprows=[0]) "
   ]
  },
  {
   "cell_type": "code",
   "execution_count": 4,
   "metadata": {},
   "outputs": [
    {
     "data": {
      "text/html": [
       "<div>\n",
       "<style scoped>\n",
       "    .dataframe tbody tr th:only-of-type {\n",
       "        vertical-align: middle;\n",
       "    }\n",
       "\n",
       "    .dataframe tbody tr th {\n",
       "        vertical-align: top;\n",
       "    }\n",
       "\n",
       "    .dataframe thead th {\n",
       "        text-align: right;\n",
       "    }\n",
       "</style>\n",
       "<table border=\"1\" class=\"dataframe\">\n",
       "  <thead>\n",
       "    <tr style=\"text-align: right;\">\n",
       "      <th></th>\n",
       "      <th>2015 rank</th>\n",
       "      <th>City</th>\n",
       "      <th>State</th>\n",
       "      <th>2015 Estimate</th>\n",
       "      <th>2011 Census</th>\n",
       "      <th>Change</th>\n",
       "      <th>2015 land area</th>\n",
       "      <th>2015 population density</th>\n",
       "      <th>Location</th>\n",
       "      <th>city</th>\n",
       "    </tr>\n",
       "  </thead>\n",
       "  <tbody>\n",
       "    <tr>\n",
       "      <th>0</th>\n",
       "      <td>1</td>\n",
       "      <td>Berlin</td>\n",
       "      <td>Berlin</td>\n",
       "      <td>3,520,031</td>\n",
       "      <td>3,292,365</td>\n",
       "      <td>+6.91%</td>\n",
       "      <td>891.68 km2344.28 sq mi</td>\n",
       "      <td>3,948/km210,230/sq mi</td>\n",
       "      <td>52°31′N 13°23′E﻿ / ﻿52.517°N 13.383°E</td>\n",
       "      <td>berlin</td>\n",
       "    </tr>\n",
       "    <tr>\n",
       "      <th>1</th>\n",
       "      <td>2</td>\n",
       "      <td>Hamburg</td>\n",
       "      <td>Hamburg</td>\n",
       "      <td>1,787,408</td>\n",
       "      <td>1,706,696</td>\n",
       "      <td>+4.73%</td>\n",
       "      <td>755.3 km2291.6 sq mi</td>\n",
       "      <td>2,366/km26,130/sq mi</td>\n",
       "      <td>53°33′N 10°0′E﻿ / ﻿53.550°N 10.000°E</td>\n",
       "      <td>hamburg</td>\n",
       "    </tr>\n",
       "    <tr>\n",
       "      <th>2</th>\n",
       "      <td>3</td>\n",
       "      <td>Munich (München)</td>\n",
       "      <td>Bavaria</td>\n",
       "      <td>1,450,381</td>\n",
       "      <td>1,348,335</td>\n",
       "      <td>+7.57%</td>\n",
       "      <td>310.7 km2120.0 sq mi</td>\n",
       "      <td>4,668/km212,090/sq mi</td>\n",
       "      <td>48°8′N 11°34′E﻿ / ﻿48.133°N 11.567°E</td>\n",
       "      <td>munich</td>\n",
       "    </tr>\n",
       "    <tr>\n",
       "      <th>3</th>\n",
       "      <td>4</td>\n",
       "      <td>Cologne (Köln)</td>\n",
       "      <td>North Rhine-Westphalia</td>\n",
       "      <td>1,060,582</td>\n",
       "      <td>1,005,775</td>\n",
       "      <td>+5.45%</td>\n",
       "      <td>405.02 km2156.38 sq mi</td>\n",
       "      <td>2,619/km26,780/sq mi</td>\n",
       "      <td>50°56′N 6°57′E﻿ / ﻿50.933°N 6.950°E</td>\n",
       "      <td>cologne</td>\n",
       "    </tr>\n",
       "    <tr>\n",
       "      <th>4</th>\n",
       "      <td>5</td>\n",
       "      <td>Frankfurt am Main</td>\n",
       "      <td>Hesse</td>\n",
       "      <td>732,688</td>\n",
       "      <td>667,925</td>\n",
       "      <td>+9.70%</td>\n",
       "      <td>248.31 km295.87 sq mi</td>\n",
       "      <td>2,951/km27,640/sq mi</td>\n",
       "      <td>50°7′N 8°41′E﻿ / ﻿50.117°N 8.683°E</td>\n",
       "      <td>frankfurt</td>\n",
       "    </tr>\n",
       "  </tbody>\n",
       "</table>\n",
       "</div>"
      ],
      "text/plain": [
       "   2015 rank               City                   State 2015 Estimate  \\\n",
       "0          1             Berlin                  Berlin     3,520,031   \n",
       "1          2            Hamburg                 Hamburg     1,787,408   \n",
       "2          3   Munich (München)                 Bavaria     1,450,381   \n",
       "3          4     Cologne (Köln)  North Rhine-Westphalia     1,060,582   \n",
       "4          5  Frankfurt am Main                   Hesse       732,688   \n",
       "\n",
       "  2011 Census  Change          2015 land area 2015 population density  \\\n",
       "0   3,292,365  +6.91%  891.68 km2344.28 sq mi   3,948/km210,230/sq mi   \n",
       "1   1,706,696  +4.73%    755.3 km2291.6 sq mi    2,366/km26,130/sq mi   \n",
       "2   1,348,335  +7.57%    310.7 km2120.0 sq mi   4,668/km212,090/sq mi   \n",
       "3   1,005,775  +5.45%  405.02 km2156.38 sq mi    2,619/km26,780/sq mi   \n",
       "4     667,925  +9.70%   248.31 km295.87 sq mi    2,951/km27,640/sq mi   \n",
       "\n",
       "                                Location       city  \n",
       "0  52°31′N 13°23′E﻿ / ﻿52.517°N 13.383°E     berlin  \n",
       "1   53°33′N 10°0′E﻿ / ﻿53.550°N 10.000°E    hamburg  \n",
       "2   48°8′N 11°34′E﻿ / ﻿48.133°N 11.567°E     munich  \n",
       "3    50°56′N 6°57′E﻿ / ﻿50.933°N 6.950°E    cologne  \n",
       "4     50°7′N 8°41′E﻿ / ﻿50.117°N 8.683°E  frankfurt  "
      ]
     },
     "execution_count": 4,
     "metadata": {},
     "output_type": "execute_result"
    }
   ],
   "source": [
    "def clean_city_name(city_name): \n",
    "    city_name = str(city_name).lower()\n",
    "    \n",
    "    # add the policy of skipping the 'le' in French city names\n",
    "    # Le Mans -> Mans\n",
    "    check_prefix = ['le ', 'la ']\n",
    "    \n",
    "    for prefix in check_prefix:\n",
    "        if prefix in city_name:\n",
    "            prefix_index = city_name.index(prefix) + len(prefix)\n",
    "            city_name = city_name[prefix_index:]\n",
    "            break\n",
    "\n",
    "    if (' ' in str(city_name)):\n",
    "        return (str(city_name).lower()[:str(city_name).index(' ')])\n",
    "    else:\n",
    "        return (str(city_name).lower())\n",
    "\n",
    "german_city_data['city'] = german_city_data['City'].apply(clean_city_name)\n",
    "\n",
    "german_city_data.head()"
   ]
  },
  {
   "cell_type": "markdown",
   "metadata": {},
   "source": [
    "Using a helper function from [\"How to convert degree minute second to degree decimal in python\n",
    "\"](https://stackoverflow.com/questions/33997361/how-to-convert-degree-minute-second-to-degree-decimal-in-python) to convert the city coordinates to decimal degrees."
   ]
  },
  {
   "cell_type": "code",
   "execution_count": 64,
   "metadata": {},
   "outputs": [],
   "source": [
    "# convert the location column to decimal degrees format\n",
    "\n",
    "# helper\n",
    "def dms2dd(degrees, minutes, seconds, direction):\n",
    "    dd = float(degrees) + float(minutes)/60 + float(seconds)/(60*60);\n",
    "    if direction == 'W' or direction == 'S':\n",
    "        dd *= -1\n",
    "    return dd;\n",
    "\n",
    "def clean_city_coords(city_coords): \n",
    "    city_coords = city_coords.split('/')[0]\n",
    "    N,N_idx,E,E_idx = (0,0,0,0)\n",
    "    \n",
    "    try:\n",
    "        N_idx = city_coords.index('′N')\n",
    "        N = city_coords[:N_idx]\n",
    "        N_dd = dms2dd(N.split('°')[0],N.split('°')[1],0,'N')\n",
    "    except ValueError:\n",
    "        Ns = re.split('\\W+', city_coords)\n",
    "        N_dd = dms2dd(Ns[0],Ns[1],Ns[2],'N')\n",
    "    \n",
    "    try:\n",
    "        E_idx = city_coords.index('′E')\n",
    "        E = city_coords[N_idx+3:E_idx]\n",
    "        E_dd = dms2dd(E.split('°')[0],E.split('°')[1],0,'E')\n",
    "    except ValueError:\n",
    "        Es = re.split('\\W+', city_coords)\n",
    "        E_dd = dms2dd(Es[4],Es[5],Es[6],'E')\n",
    "        \n",
    "    return [N_dd,E_dd]\n",
    "\n",
    "    \n",
    "\n",
    "german_city_data['location_dds'] = german_city_data['Location'].apply(clean_city_coords)"
   ]
  },
  {
   "cell_type": "code",
   "execution_count": 5,
   "metadata": {},
   "outputs": [
    {
     "data": {
      "text/html": [
       "<div>\n",
       "<style scoped>\n",
       "    .dataframe tbody tr th:only-of-type {\n",
       "        vertical-align: middle;\n",
       "    }\n",
       "\n",
       "    .dataframe tbody tr th {\n",
       "        vertical-align: top;\n",
       "    }\n",
       "\n",
       "    .dataframe thead th {\n",
       "        text-align: right;\n",
       "    }\n",
       "</style>\n",
       "<table border=\"1\" class=\"dataframe\">\n",
       "  <thead>\n",
       "    <tr style=\"text-align: right;\">\n",
       "      <th></th>\n",
       "      <th>Commune</th>\n",
       "      <th>Department</th>\n",
       "      <th>Region</th>\n",
       "      <th>Pop. 2013census</th>\n",
       "      <th>Rank</th>\n",
       "      <th>city</th>\n",
       "    </tr>\n",
       "  </thead>\n",
       "  <tbody>\n",
       "    <tr>\n",
       "      <th>0</th>\n",
       "      <td>Paris</td>\n",
       "      <td>Paris</td>\n",
       "      <td>Île-de-France</td>\n",
       "      <td>2,229,621</td>\n",
       "      <td>1</td>\n",
       "      <td>paris</td>\n",
       "    </tr>\n",
       "    <tr>\n",
       "      <th>1</th>\n",
       "      <td>Marseille</td>\n",
       "      <td>Bouches-du-Rhône</td>\n",
       "      <td>Provence-Alpes-Côte d'Azur</td>\n",
       "      <td>855,393</td>\n",
       "      <td>2</td>\n",
       "      <td>marseille</td>\n",
       "    </tr>\n",
       "    <tr>\n",
       "      <th>2</th>\n",
       "      <td>Lyon</td>\n",
       "      <td>Rhône</td>\n",
       "      <td>Auvergne-Rhône-Alpes</td>\n",
       "      <td>500,715</td>\n",
       "      <td>3</td>\n",
       "      <td>lyon</td>\n",
       "    </tr>\n",
       "    <tr>\n",
       "      <th>3</th>\n",
       "      <td>Toulouse</td>\n",
       "      <td>Haute-Garonne</td>\n",
       "      <td>Occitanie</td>\n",
       "      <td>458,298</td>\n",
       "      <td>4</td>\n",
       "      <td>toulouse</td>\n",
       "    </tr>\n",
       "    <tr>\n",
       "      <th>4</th>\n",
       "      <td>Nice</td>\n",
       "      <td>Alpes-Maritimes</td>\n",
       "      <td>Provence-Alpes-Côte d'Azur</td>\n",
       "      <td>342,295</td>\n",
       "      <td>5</td>\n",
       "      <td>nice</td>\n",
       "    </tr>\n",
       "  </tbody>\n",
       "</table>\n",
       "</div>"
      ],
      "text/plain": [
       "     Commune        Department                      Region Pop. 2013census  \\\n",
       "0      Paris             Paris               Île-de-France       2,229,621   \n",
       "1  Marseille  Bouches-du-Rhône  Provence-Alpes-Côte d'Azur         855,393   \n",
       "2       Lyon             Rhône        Auvergne-Rhône-Alpes         500,715   \n",
       "3   Toulouse     Haute-Garonne                   Occitanie         458,298   \n",
       "4       Nice   Alpes-Maritimes  Provence-Alpes-Côte d'Azur         342,295   \n",
       "\n",
       "   Rank       city  \n",
       "0     1      paris  \n",
       "1     2  marseille  \n",
       "2     3       lyon  \n",
       "3     4   toulouse  \n",
       "4     5       nice  "
      ]
     },
     "execution_count": 5,
     "metadata": {},
     "output_type": "execute_result"
    }
   ],
   "source": [
    "french_city_data['city'] = french_city_data['Commune'].apply(clean_city_name)\n",
    "\n",
    "french_city_data.head()"
   ]
  },
  {
   "cell_type": "code",
   "execution_count": 6,
   "metadata": {},
   "outputs": [],
   "source": [
    "def construct_word_vec_dict(city_names):\n",
    "    word_vec_dict = dict()\n",
    "    for city in city_names:\n",
    "        try:\n",
    "            word_vector = word_vectors[city]\n",
    "        except KeyError:\n",
    "            # assign the null vector when the city name in the set of word vectors\n",
    "            word_vector = np.zeros((50,), dtype=np.float32)\n",
    "        \n",
    "        word_vec_dict[city] = word_vector\n",
    "    \n",
    "    return word_vec_dict\n",
    "    \n",
    "german_vecs = construct_word_vec_dict(list(german_city_data['city']))\n",
    "french_vecs = construct_word_vec_dict(list(french_city_data['city']))"
   ]
  },
  {
   "cell_type": "code",
   "execution_count": 7,
   "metadata": {},
   "outputs": [
    {
     "name": "stdout",
     "output_type": "stream",
     "text": [
      "[ 0.76989   1.181    -1.1299   -0.74725  -0.5969   -1.0518   -0.46552\n",
      "  0.27009  -0.99243  -0.04864   0.28642  -0.75261  -1.0566   -0.19205\n",
      "  0.572    -0.24391  -0.36054  -0.70876  -0.91951  -0.27024   1.5131\n",
      "  1.0313   -0.55713   0.52952  -0.71494  -1.0949   -0.60565   0.31329\n",
      " -0.44488   0.55915   2.1429    0.43389  -0.5529   -0.24261  -0.43679\n",
      " -0.96014   0.25828   0.79385   0.37132   0.49623   0.84359  -0.25875\n",
      "  1.5616   -1.1199    0.091676  0.076675 -0.45084  -0.86104   0.97599\n",
      " -0.35615 ]\n",
      "[ 0.43801   0.78553  -0.19659  -1.3375   -0.078397 -0.37857  -0.19059\n",
      "  0.31307  -0.99329  -0.50101   0.15781  -0.99817  -1.0697    0.47282\n",
      "  0.5135    0.069309  0.47158  -0.094145 -0.92403   0.93513   1.6719\n",
      " -0.38873  -0.69136   0.51696  -0.28509  -1.5811   -0.43986   0.38553\n",
      " -0.97072  -0.346     1.5268    0.38354   0.15708  -0.66334  -1.3933\n",
      " -0.44692   0.80848   0.94992   0.22149   0.3744    0.47636  -0.45211\n",
      "  0.48729  -1.2534    0.031507  0.35762  -0.074152 -0.098307 -0.27759\n",
      " -0.084488]\n",
      "[ 0.77319   0.65965  -0.20124  -1.0339   -0.020547 -0.27807  -0.38378\n",
      "  0.36082  -1.2141    0.087444  0.99245  -0.65689  -1.8935    0.11034\n",
      "  0.93459  -0.30623   0.43145   0.035979 -1.8033    0.98636   0.77084\n",
      " -0.71075  -0.77755   0.70855  -1.1061   -1.4632    0.10691   0.37874\n",
      " -0.75807  -0.11824   0.97032   0.99867   0.29083  -0.36337  -1.0765\n",
      " -0.25837   0.55088   1.6091    0.89116   0.25319   1.0525   -0.4272\n",
      "  0.50078  -0.4527    0.077112  0.50288   0.089438  0.6055    0.052912\n",
      " -0.38675 ]\n",
      "[ 5.4217e-01  1.0638e-01  3.9198e-01 -4.0796e-01 -5.4900e-01 -5.0031e-01\n",
      " -4.4115e-02  7.7565e-01 -1.6116e+00 -2.4068e-01  6.2596e-01 -8.9828e-01\n",
      " -2.1795e+00 -3.9996e-01  3.0923e-01 -4.6333e-01  2.2932e-01  3.8906e-01\n",
      " -1.4301e+00  4.9581e-01  2.3608e-01 -8.9607e-01 -6.2166e-01  1.2099e+00\n",
      " -8.9263e-01 -9.1703e-01  2.7056e-01  2.8585e-01 -9.5926e-01 -7.4121e-01\n",
      "  6.0517e-01  9.9788e-01  4.3425e-01 -2.7652e-01 -3.9713e-01 -2.4243e-01\n",
      "  2.1650e-01  1.7375e+00  8.0879e-01  1.2441e-03  1.0463e+00 -4.3320e-01\n",
      "  5.0196e-01 -5.9831e-01 -2.6108e-01  6.3782e-01  6.2706e-01  5.4652e-01\n",
      "  4.2571e-01 -2.6504e-01]\n"
     ]
    }
   ],
   "source": [
    "print(word_vectors['paris'])\n",
    "print(word_vectors['berlin'])\n",
    "print(word_vectors['munich'])\n",
    "print(word_vectors['stuttgart'])"
   ]
  },
  {
   "cell_type": "code",
   "execution_count": 8,
   "metadata": {},
   "outputs": [
    {
     "data": {
      "text/plain": [
       "array([ 0.8782   , -0.45171  ,  0.96737  ,  0.040347 ,  0.76235  ,\n",
       "       -0.63825  ,  0.18944  , -0.26633  ,  0.58874  , -0.93608  ,\n",
       "       -0.065201 ,  0.5123   , -0.69111  ,  0.52807  , -0.71195  ,\n",
       "       -0.2834   , -0.34591  ,  0.014351 ,  0.11763  ,  0.59407  ,\n",
       "        0.20703  ,  0.69087  ,  1.0855   , -0.83158  , -0.35967  ,\n",
       "       -2.3939   , -0.88375  , -0.417    , -0.36717  ,  0.58897  ,\n",
       "        2.4132   , -0.74281  , -0.3619   , -1.9934   ,  0.093133 ,\n",
       "        0.86592  , -0.75185  ,  0.19073  , -0.54284  , -0.0084839,\n",
       "        0.57554  ,  0.4475   ,  0.48515  ,  0.054866 ,  0.35842  ,\n",
       "       -0.51698  , -0.026014 ,  1.9907   , -0.11378  ,  0.30127  ],\n",
       "      dtype=float32)"
      ]
     },
     "execution_count": 8,
     "metadata": {},
     "output_type": "execute_result"
    }
   ],
   "source": [
    "word_vectors['intelligence']"
   ]
  },
  {
   "cell_type": "markdown",
   "metadata": {},
   "source": [
    "### 1st Idea : Analyze the pairwise distance of cities in the same country\n",
    "\n",
    "Construct the distance matrix for the top 70 cities in Germany and France and compare their pairwise distances.\n",
    "Apply MDS ([Multi-dimensional scaling](https://scikit-learn.org/stable/auto_examples/manifold/plot_mds.html)) to visualize the matrices in a 2 dimensional space."
   ]
  },
  {
   "cell_type": "code",
   "execution_count": 28,
   "metadata": {},
   "outputs": [],
   "source": [
    "german_vec_X = np.array([german_vecs[key] for key in german_vecs.keys()])\n",
    "german_vec_y = list(german_vecs.keys())\n",
    "\n",
    "# the element 'saale' is a zero vector, remove this before computing\n",
    "idx = german_vec_y.index('(saale)')\n",
    "german_vec_X = np.delete(german_vec_X, (idx), axis=0)\n",
    "del german_vec_y[idx]\n",
    "\n",
    "# construct the pairwise cosine distance matrix\n",
    "cos_matrix = [[scipy.spatial.distance.cosine(german_vec_X[row], german_vec_X[col]) \n",
    "               for col in range(german_vec_X.shape[0])] for row in range(german_vec_X.shape[0])]"
   ]
  },
  {
   "cell_type": "code",
   "execution_count": 29,
   "metadata": {},
   "outputs": [
    {
     "data": {
      "text/plain": [
       "array([[0.        , 0.21688867, 0.15872866, ..., 0.73959112, 0.75459102,\n",
       "        0.77005935],\n",
       "       [0.21688867, 0.        , 0.1015175 , ..., 0.58111277, 0.6614342 ,\n",
       "        0.71357739],\n",
       "       [0.15872866, 0.1015175 , 0.        , ..., 0.66412744, 0.67875588,\n",
       "        0.72720835],\n",
       "       ...,\n",
       "       [0.73959112, 0.58111277, 0.66412744, ..., 0.        , 0.51101431,\n",
       "        0.62263399],\n",
       "       [0.75459102, 0.6614342 , 0.67875588, ..., 0.51101431, 0.        ,\n",
       "        0.50285265],\n",
       "       [0.77005935, 0.71357739, 0.72720835, ..., 0.62263399, 0.50285265,\n",
       "        0.        ]])"
      ]
     },
     "execution_count": 29,
     "metadata": {},
     "output_type": "execute_result"
    }
   ],
   "source": [
    "np.array(cos_matrix)"
   ]
  },
  {
   "cell_type": "code",
   "execution_count": 34,
   "metadata": {},
   "outputs": [],
   "source": [
    "mds_embedding = manifold.MDS(n_components=2, dissimilarity='precomputed')\n",
    "german_vec_mds = mds_embedding.fit_transform(cos_matrix)"
   ]
  },
  {
   "cell_type": "code",
   "execution_count": 35,
   "metadata": {},
   "outputs": [
    {
     "data": {
      "text/plain": [
       "array([[ 0.11437608,  0.43664136],\n",
       "       [-0.03294587,  0.33901954],\n",
       "       [-0.07126341,  0.38632956],\n",
       "       [-0.07844811,  0.20340114],\n",
       "       [-0.04650305,  0.43153408]])"
      ]
     },
     "execution_count": 35,
     "metadata": {},
     "output_type": "execute_result"
    }
   ],
   "source": [
    "german_vec_mds[:5]"
   ]
  },
  {
   "cell_type": "code",
   "execution_count": 103,
   "metadata": {},
   "outputs": [
    {
     "data": {
      "image/png": "[encoded data removed]",
      "text/plain": [
       "<Figure size 720x576 with 1 Axes>"
      ]
     },
     "metadata": {
      "needs_background": "light"
     },
     "output_type": "display_data"
    }
   ],
   "source": [
    "TOP_N = 10\n",
    "\n",
    "plt.figure(figsize=(10,8))\n",
    "plt.scatter(german_vec_mds[:TOP_N, 0], german_vec_mds[:TOP_N, 1], marker='o', cmap=plt.get_cmap('Spectral'))\n",
    "plt.xlim(min(german_vec_mds[:TOP_N, 0])-0.15,max(german_vec_mds[:TOP_N, 0])+0.15)\n",
    "plt.ylim(min(german_vec_mds[:TOP_N, 1])-0.15,max(german_vec_mds[:TOP_N, 1])+0.15)\n",
    "plt.title(\"MDS for the word vectors of the {0} largest cities in Germany using the cosine distance metric\".format(TOP_N))\n",
    "\n",
    "for label, x, y in zip(list(german_vec_y)[:TOP_N], german_vec_mds[:TOP_N, 0], german_vec_mds[:TOP_N, 1]):\n",
    "    plt.annotate(\n",
    "        label,\n",
    "        xy=(x, y), xytext=(-20, 20),\n",
    "        textcoords='offset points', ha='right', va='bottom',\n",
    "        bbox=dict(boxstyle='round,pad=0.5', fc='yellow', alpha=0.5),\n",
    "        arrowprops=dict(arrowstyle = '->', connectionstyle='arc3,rad=0'))\n",
    "\n",
    "plt.show()"
   ]
  },
  {
   "cell_type": "markdown",
   "metadata": {},
   "source": [
    "Let's compare this to the MDS map created by taking the [great circle distance](https://en.wikipedia.org/wiki/Great-circle_distance) between each of the top 10 German cities."
   ]
  },
  {
   "cell_type": "code",
   "execution_count": 73,
   "metadata": {},
   "outputs": [
    {
     "data": {
      "text/html": [
       "<div>\n",
       "<style scoped>\n",
       "    .dataframe tbody tr th:only-of-type {\n",
       "        vertical-align: middle;\n",
       "    }\n",
       "\n",
       "    .dataframe tbody tr th {\n",
       "        vertical-align: top;\n",
       "    }\n",
       "\n",
       "    .dataframe thead th {\n",
       "        text-align: right;\n",
       "    }\n",
       "</style>\n",
       "<table border=\"1\" class=\"dataframe\">\n",
       "  <thead>\n",
       "    <tr style=\"text-align: right;\">\n",
       "      <th></th>\n",
       "      <th>2015 rank</th>\n",
       "      <th>City</th>\n",
       "      <th>State</th>\n",
       "      <th>2015 Estimate</th>\n",
       "      <th>2011 Census</th>\n",
       "      <th>Change</th>\n",
       "      <th>2015 land area</th>\n",
       "      <th>2015 population density</th>\n",
       "      <th>Location</th>\n",
       "      <th>city</th>\n",
       "      <th>location_dds</th>\n",
       "    </tr>\n",
       "  </thead>\n",
       "  <tbody>\n",
       "    <tr>\n",
       "      <th>0</th>\n",
       "      <td>1</td>\n",
       "      <td>Berlin</td>\n",
       "      <td>Berlin</td>\n",
       "      <td>3,520,031</td>\n",
       "      <td>3,292,365</td>\n",
       "      <td>+6.91%</td>\n",
       "      <td>891.68 km2344.28 sq mi</td>\n",
       "      <td>3,948/km210,230/sq mi</td>\n",
       "      <td>52°31′N 13°23′E﻿ / ﻿52.517°N 13.383°E</td>\n",
       "      <td>berlin</td>\n",
       "      <td>[52.516666666666666, 13.383333333333333]</td>\n",
       "    </tr>\n",
       "    <tr>\n",
       "      <th>1</th>\n",
       "      <td>2</td>\n",
       "      <td>Hamburg</td>\n",
       "      <td>Hamburg</td>\n",
       "      <td>1,787,408</td>\n",
       "      <td>1,706,696</td>\n",
       "      <td>+4.73%</td>\n",
       "      <td>755.3 km2291.6 sq mi</td>\n",
       "      <td>2,366/km26,130/sq mi</td>\n",
       "      <td>53°33′N 10°0′E﻿ / ﻿53.550°N 10.000°E</td>\n",
       "      <td>hamburg</td>\n",
       "      <td>[53.55, 10.0]</td>\n",
       "    </tr>\n",
       "  </tbody>\n",
       "</table>\n",
       "</div>"
      ],
      "text/plain": [
       "   2015 rank     City    State 2015 Estimate 2011 Census  Change  \\\n",
       "0          1   Berlin   Berlin     3,520,031   3,292,365  +6.91%   \n",
       "1          2  Hamburg  Hamburg     1,787,408   1,706,696  +4.73%   \n",
       "\n",
       "           2015 land area 2015 population density  \\\n",
       "0  891.68 km2344.28 sq mi   3,948/km210,230/sq mi   \n",
       "1    755.3 km2291.6 sq mi    2,366/km26,130/sq mi   \n",
       "\n",
       "                                Location     city  \\\n",
       "0  52°31′N 13°23′E﻿ / ﻿52.517°N 13.383°E   berlin   \n",
       "1   53°33′N 10°0′E﻿ / ﻿53.550°N 10.000°E  hamburg   \n",
       "\n",
       "                               location_dds  \n",
       "0  [52.516666666666666, 13.383333333333333]  \n",
       "1                             [53.55, 10.0]  "
      ]
     },
     "execution_count": 73,
     "metadata": {},
     "output_type": "execute_result"
    }
   ],
   "source": [
    "german_city_data.head(n=2)"
   ]
  },
  {
   "cell_type": "code",
   "execution_count": 80,
   "metadata": {},
   "outputs": [
    {
     "data": {
      "text/plain": [
       "253.70450393611705"
      ]
     },
     "execution_count": 80,
     "metadata": {},
     "output_type": "execute_result"
    }
   ],
   "source": [
    "berlin_coords = german_city_data['location_dds'][0]\n",
    "hamburg_coords = german_city_data['location_dds'][1]\n",
    "great_circle(berlin_coords,hamburg_coords).kilometers"
   ]
  },
  {
   "cell_type": "code",
   "execution_count": 84,
   "metadata": {},
   "outputs": [],
   "source": [
    "german_locs = german_city_data['location_dds']\n",
    "# construct the pairwise great circle distance matrix\n",
    "great_circle_matrix = np.array([[great_circle(german_locs[row], german_locs[col]).kilometers \n",
    "               for col in range(len(german_locs))] for row in range(len(german_locs))])\n",
    "\n",
    "mds_embedding = manifold.MDS(n_components=2, dissimilarity='precomputed')\n",
    "german_circle_dist_mds = mds_embedding.fit_transform(great_circle_matrix)"
   ]
  },
  {
   "cell_type": "code",
   "execution_count": 91,
   "metadata": {},
   "outputs": [
    {
     "data": {
      "image/png": "[encoded data removed]",
      "text/plain": [
       "<Figure size 720x576 with 1 Axes>"
      ]
     },
     "metadata": {
      "needs_background": "light"
     },
     "output_type": "display_data"
    }
   ],
   "source": [
    "plt.figure(figsize=(10,8))\n",
    "plt.scatter(german_circle_dist_mds[:10, 0], german_circle_dist_mds[:10, 1], marker='o', cmap=plt.get_cmap('Spectral'))\n",
    "plt.xlim(-400,400)\n",
    "plt.ylim(-400,300)\n",
    "plt.title(\"MDS for the 10 largest cities in Germany using the great circle distance metric\")\n",
    "\n",
    "for label, x, y in zip(list(german_vec_y)[:10], german_circle_dist_mds[:10, 0], german_circle_dist_mds[:10, 1]):\n",
    "    plt.annotate(\n",
    "        label,\n",
    "        xy=(x, y), xytext=(-20, 20),\n",
    "        textcoords='offset points', ha='right', va='bottom',\n",
    "        bbox=dict(boxstyle='round,pad=0.5', fc='yellow', alpha=0.5),\n",
    "        arrowprops=dict(arrowstyle = '->', connectionstyle='arc3,rad=0'))\n",
    "\n",
    "plt.show()"
   ]
  }
 ],
 "metadata": {
  "kernelspec": {
   "display_name": "Python 3",
   "language": "python",
   "name": "python3"
  },
  "language_info": {
   "codemirror_mode": {
    "name": "ipython",
    "version": 3
   },
   "file_extension": ".py",
   "mimetype": "text/x-python",
   "name": "python",
   "nbconvert_exporter": "python",
   "pygments_lexer": "ipython3",
   "version": "3.7.0"
  }
 },
 "nbformat": 4,
 "nbformat_minor": 2
}
